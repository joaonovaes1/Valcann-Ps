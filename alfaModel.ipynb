{
 "cells": [
  {
   "cell_type": "raw",
   "id": "9f362021-4947-4416-bc7c-6d8eba49e44d",
   "metadata": {},
   "source": [
    "Base de dados gerados atráves de Inteligência Artificial, apenas para fins didáticos."
   ]
  },
  {
   "cell_type": "markdown",
   "id": "e9205e9c-0fac-40b5-8e64-5fc4b55e1244",
   "metadata": {},
   "source": [
    "## Imports Necessários"
   ]
  },
  {
   "cell_type": "code",
   "execution_count": 2,
   "id": "edf392b4-0f66-473a-b95d-79522c0952b0",
   "metadata": {},
   "outputs": [],
   "source": [
    "import pandas as pd\n",
    "from pandas.plotting import scatter_matrix\n",
    "import numpy as np\n",
    "import seaborn as sns\n",
    "import matplotlib.pyplot as plt\n",
    "from scipy.stats import ttest_ind\n",
    "from sklearn.metrics import mean_squared_error\n",
    "\n",
    "import xgboost as xgb\n",
    "from xgboost import XGBRegressor\n",
    "from sklearn.model_selection import GridSearchCV\n",
    "\n",
    "from sklearn.linear_model import LinearRegression\n",
    "from sklearn.metrics import mean_squared_error\n",
    "\n",
    "\n",
    "pd.set_option('display.max_rows', None)\n"
   ]
  },
  {
   "cell_type": "code",
   "execution_count": 22,
   "id": "278157af-fd88-46bb-a370-a2212df1dabc",
   "metadata": {},
   "outputs": [],
   "source": [
    "df = pd.read_csv('C:\\\\Users\\\\marce\\\\OneDrive\\\\Dokumenti\\\\GitHub\\\\psValcann\\\\Valcann-Ps\\\\data\\\\vendas_produto_alfa.csv')"
   ]
  },
  {
   "cell_type": "code",
   "execution_count": 23,
   "id": "e0397959-a618-4ea2-bf9e-0a80ea65bff1",
   "metadata": {},
   "outputs": [
    {
     "data": {
      "text/html": [
       "<div>\n",
       "<style scoped>\n",
       "    .dataframe tbody tr th:only-of-type {\n",
       "        vertical-align: middle;\n",
       "    }\n",
       "\n",
       "    .dataframe tbody tr th {\n",
       "        vertical-align: top;\n",
       "    }\n",
       "\n",
       "    .dataframe thead th {\n",
       "        text-align: right;\n",
       "    }\n",
       "</style>\n",
       "<table border=\"1\" class=\"dataframe\">\n",
       "  <thead>\n",
       "    <tr style=\"text-align: right;\">\n",
       "      <th></th>\n",
       "      <th>data</th>\n",
       "      <th>vendas</th>\n",
       "      <th>dia_da_semana</th>\n",
       "      <th>em_promocao</th>\n",
       "      <th>feriado_nacional</th>\n",
       "    </tr>\n",
       "  </thead>\n",
       "  <tbody>\n",
       "    <tr>\n",
       "      <th>0</th>\n",
       "      <td>2025-08-08 22:01:44.459032</td>\n",
       "      <td>139.0</td>\n",
       "      <td>sexta-feira</td>\n",
       "      <td>False</td>\n",
       "      <td>False</td>\n",
       "    </tr>\n",
       "    <tr>\n",
       "      <th>1</th>\n",
       "      <td>2025-07-04 22:01:44.459032</td>\n",
       "      <td>133.0</td>\n",
       "      <td>sexta-feira</td>\n",
       "      <td>True</td>\n",
       "      <td>True</td>\n",
       "    </tr>\n",
       "    <tr>\n",
       "      <th>2</th>\n",
       "      <td>2024-12-25 22:01:44.459032</td>\n",
       "      <td>579.0</td>\n",
       "      <td>quarta-feira</td>\n",
       "      <td>True</td>\n",
       "      <td>False</td>\n",
       "    </tr>\n",
       "    <tr>\n",
       "      <th>3</th>\n",
       "      <td>2025-04-14 22:01:44.459032</td>\n",
       "      <td>105.0</td>\n",
       "      <td>segunda-feira</td>\n",
       "      <td>False</td>\n",
       "      <td>False</td>\n",
       "    </tr>\n",
       "    <tr>\n",
       "      <th>4</th>\n",
       "      <td>2026-03-25 22:01:44.459032</td>\n",
       "      <td>60.0</td>\n",
       "      <td>quarta-feira</td>\n",
       "      <td>True</td>\n",
       "      <td>False</td>\n",
       "    </tr>\n",
       "  </tbody>\n",
       "</table>\n",
       "</div>"
      ],
      "text/plain": [
       "                         data  vendas  dia_da_semana em_promocao  \\\n",
       "0  2025-08-08 22:01:44.459032   139.0    sexta-feira       False   \n",
       "1  2025-07-04 22:01:44.459032   133.0    sexta-feira        True   \n",
       "2  2024-12-25 22:01:44.459032   579.0   quarta-feira        True   \n",
       "3  2025-04-14 22:01:44.459032   105.0  segunda-feira       False   \n",
       "4  2026-03-25 22:01:44.459032    60.0   quarta-feira        True   \n",
       "\n",
       "  feriado_nacional  \n",
       "0            False  \n",
       "1             True  \n",
       "2            False  \n",
       "3            False  \n",
       "4            False  "
      ]
     },
     "execution_count": 23,
     "metadata": {},
     "output_type": "execute_result"
    }
   ],
   "source": [
    "df.head()"
   ]
  },
  {
   "cell_type": "markdown",
   "id": "8a48943a-71e4-49c8-ad7b-20cc395165fe",
   "metadata": {},
   "source": [
    "## Exploratory Data Analysis"
   ]
  },
  {
   "cell_type": "code",
   "execution_count": 24,
   "id": "62d0fc76-5c01-407c-9feb-21d2eb50662a",
   "metadata": {},
   "outputs": [
    {
     "data": {
      "text/plain": [
       "(1015, 5)"
      ]
     },
     "execution_count": 24,
     "metadata": {},
     "output_type": "execute_result"
    }
   ],
   "source": [
    "df.shape"
   ]
  },
  {
   "cell_type": "code",
   "execution_count": 25,
   "id": "2f172375-f5d2-40f2-8d17-ab80820672b5",
   "metadata": {},
   "outputs": [
    {
     "data": {
      "text/plain": [
       "data                 object\n",
       "vendas              float64\n",
       "dia_da_semana        object\n",
       "em_promocao          object\n",
       "feriado_nacional     object\n",
       "dtype: object"
      ]
     },
     "execution_count": 25,
     "metadata": {},
     "output_type": "execute_result"
    }
   ],
   "source": [
    "df.dtypes"
   ]
  },
  {
   "cell_type": "code",
   "execution_count": 29,
   "id": "612d2372-f181-46eb-8d8b-5c6559b1b998",
   "metadata": {},
   "outputs": [
    {
     "data": {
      "text/plain": [
       "data                 0\n",
       "vendas               0\n",
       "dia_da_semana       30\n",
       "em_promocao         20\n",
       "feriado_nacional     0\n",
       "dtype: int64"
      ]
     },
     "execution_count": 29,
     "metadata": {},
     "output_type": "execute_result"
    }
   ],
   "source": [
    "df.isnull().sum()"
   ]
  },
  {
   "cell_type": "markdown",
   "id": "ddea7822-29b4-47e8-9331-1cd753c94184",
   "metadata": {},
   "source": [
    "### NULL Values"
   ]
  },
  {
   "cell_type": "code",
   "execution_count": 26,
   "id": "e6e79c3d-e762-4673-95c4-272f7249d0dd",
   "metadata": {},
   "outputs": [],
   "source": [
    "# Data\n",
    "df = df.loc[~df['data'].isna()]"
   ]
  },
  {
   "cell_type": "code",
   "execution_count": 27,
   "id": "b385069a-b417-4765-956a-02862a8c2889",
   "metadata": {},
   "outputs": [],
   "source": [
    "df['data'] = pd.to_datetime(df['data'])"
   ]
  },
  {
   "cell_type": "code",
   "execution_count": 28,
   "id": "f3d8b73f-702c-4c93-872f-716691b978e6",
   "metadata": {},
   "outputs": [],
   "source": [
    "# Vendas\n",
    "df['vendas'] = df['vendas'].fillna(\n",
    "    df.groupby('dia_da_semana')['vendas'].transform('mean')\n",
    ")"
   ]
  },
  {
   "cell_type": "code",
   "execution_count": 11,
   "id": "a8c012d9-cfe7-4e30-a5a0-d158234ee0ac",
   "metadata": {},
   "outputs": [],
   "source": [
    "# Dia da Semana\n",
    "\n",
    "dias_semana = {\n",
    "    0: 'segunda-feira',\n",
    "    1: 'terca-feira',\n",
    "    2: 'quarta-feira',\n",
    "    3: 'quinta-feira',\n",
    "    4: 'sexta-feira',\n",
    "    5: 'sabado',\n",
    "    6: 'domingo'\n",
    "}\n",
    "\n",
    "def preencher_dia_da_semana(row):\n",
    "    if pd.isna(row['dia_da_semana']):\n",
    "        return dias_semana[row['data'].weekday()]\n",
    "    else:\n",
    "        return row['dia_da_semana']\n",
    "\n",
    "df['dia_da_semana'] = df.apply(preencher_dia_da_semana, axis=1)\n"
   ]
  },
  {
   "cell_type": "code",
   "execution_count": 12,
   "id": "1dd3d7a5-1966-4256-9eed-eac59ac94f2f",
   "metadata": {},
   "outputs": [],
   "source": [
    "# Em Promoção\n",
    "probs = df['em_promocao'].value_counts(normalize=True)\n",
    "\n",
    "# Função para imputar nulos\n",
    "def imputar_em_promocao(val):\n",
    "    if pd.isna(val):\n",
    "        return np.random.choice([True, False], p=[probs[True], probs[False]])\n",
    "    else:\n",
    "        return val\n",
    "\n",
    "df['em_promocao'] = df['em_promocao'].apply(imputar_em_promocao)\n"
   ]
  },
  {
   "cell_type": "markdown",
   "id": "58cc4a65-cbf9-47fe-a1e8-54cc97d17667",
   "metadata": {},
   "source": [
    "### Transformation"
   ]
  },
  {
   "cell_type": "code",
   "execution_count": 13,
   "id": "b6add956-cfd5-4aaf-9fc2-d0ed8f2528b9",
   "metadata": {},
   "outputs": [],
   "source": [
    "# Vendas -> INT\n",
    "df['vendas'] = df['vendas'].astype(int)\n",
    "\n",
    "# Em Promocao -> False 0 | True 1\n",
    "df['em_promocao'] = df['em_promocao'].astype(int)\n",
    "\n",
    "# Feriado Nacional -> False 0 | True 1\n",
    "df['feriado_nacional'] = df['feriado_nacional'].astype(int)\n",
    "\n",
    "# Dias da Semana\n",
    "dias_semana = {\n",
    "    'segunda-feira': 0,\n",
    "    'terca-feira': 1,\n",
    "    'quarta-feira': 2,\n",
    "    'quinta-feira': 3,\n",
    "    'sexta-feira': 4,\n",
    "    'sabado': 5,\n",
    "    'domingo': 6\n",
    "}\n",
    "\n",
    "def transformar_dias(col):\n",
    "    return col.map(dias_semana)\n",
    "\n",
    "df['dia_da_semana'] = transformar_dias(df['dia_da_semana'])\n",
    "\n",
    "df['dia_da_semana'] = df['dia_da_semana'].astype(int)\n"
   ]
  },
  {
   "cell_type": "markdown",
   "id": "ebb4c28b-19fb-4d46-b8d8-b6c41e11cacf",
   "metadata": {},
   "source": [
    "### Univariate Analysis"
   ]
  },
  {
   "cell_type": "code",
   "execution_count": 14,
   "id": "1d812c35-d550-4983-a1bf-57ccf7562c06",
   "metadata": {},
   "outputs": [
    {
     "data": {
      "text/plain": [
       "count    1005.000000\n",
       "mean      129.419900\n",
       "std        62.366757\n",
       "min       -66.000000\n",
       "25%        90.000000\n",
       "50%       130.000000\n",
       "75%       164.000000\n",
       "max       873.000000\n",
       "Name: vendas, dtype: float64"
      ]
     },
     "execution_count": 14,
     "metadata": {},
     "output_type": "execute_result"
    }
   ],
   "source": [
    "df['vendas'].describe()"
   ]
  },
  {
   "cell_type": "markdown",
   "id": "4e53326a-9703-42e2-9e20-adbc51179b78",
   "metadata": {},
   "source": [
    "#### Histograma"
   ]
  },
  {
   "cell_type": "code",
   "execution_count": 15,
   "id": "d93a3263-0271-4de1-890b-6f6172502305",
   "metadata": {},
   "outputs": [
    {
     "data": {
      "text/plain": [
       "<Axes: xlabel='vendas', ylabel='Count'>"
      ]
     },
     "execution_count": 15,
     "metadata": {},
     "output_type": "execute_result"
    },
    {
     "data": {
      "image/png": "[encoded data removed]",
      "text/plain": [
       "<Figure size 640x480 with 1 Axes>"
      ]
     },
     "metadata": {},
     "output_type": "display_data"
    }
   ],
   "source": [
    "sns.histplot(data=df, x=\"vendas\")"
   ]
  },
  {
   "cell_type": "markdown",
   "id": "a033d064-d344-42df-a968-e0134189acd2",
   "metadata": {},
   "source": [
    "#### Boxplot"
   ]
  },
  {
   "cell_type": "code",
   "execution_count": 16,
   "id": "5592ff98-a33d-4e99-bcf8-908040c0e577",
   "metadata": {},
   "outputs": [
    {
     "data": {
      "text/plain": [
       "<Axes: xlabel='vendas'>"
      ]
     },
     "execution_count": 16,
     "metadata": {},
     "output_type": "execute_result"
    },
    {
     "data": {
      "image/png": "[encoded data removed]",
      "text/plain": [
       "<Figure size 640x480 with 1 Axes>"
      ]
     },
     "metadata": {},
     "output_type": "display_data"
    }
   ],
   "source": [
    "sns.boxplot(data=df, x=\"vendas\")"
   ]
  },
  {
   "cell_type": "markdown",
   "id": "132ae057-f1c4-45ac-a396-f6c35c0e394a",
   "metadata": {},
   "source": [
    "### Multivariate Analysis"
   ]
  },
  {
   "cell_type": "code",
   "execution_count": 17,
   "id": "3234a2a1-b709-4329-8932-f80e326b460a",
   "metadata": {},
   "outputs": [
    {
     "data": {
      "image/png": "[encoded data removed]",
      "text/plain": [
       "<Figure size 640x480 with 16 Axes>"
      ]
     },
     "metadata": {},
     "output_type": "display_data"
    }
   ],
   "source": [
    "scatter_matrix(df, diagonal=\"kde\")\n",
    "plt.tight_layout()\n",
    "plt.show()\n"
   ]
  },
  {
   "cell_type": "markdown",
   "id": "d681c62b-2fb1-4420-a928-eb8ad7b8dee5",
   "metadata": {},
   "source": [
    "## Pre Processing / Normalization"
   ]
  },
  {
   "cell_type": "code",
   "execution_count": 18,
   "id": "0610ca78-94a1-4718-a554-76689e362bba",
   "metadata": {},
   "outputs": [],
   "source": [
    "df.drop_duplicates(inplace=True)"
   ]
  },
  {
   "cell_type": "markdown",
   "id": "828bae1c-35c8-4daf-b34b-6729203c5cef",
   "metadata": {},
   "source": [
    "## Feature Engineering"
   ]
  },
  {
   "cell_type": "code",
   "execution_count": 19,
   "id": "696d5fa2-1791-4b26-b243-9294f80158b5",
   "metadata": {},
   "outputs": [],
   "source": [
    "# Mês\n",
    "df['Mês'] = df['data'].dt.month\n",
    "\n",
    "# Final de Semana\n",
    "df['Fds'] = (df['dia_da_semana'] >= 5).astype(int)\n",
    "\n",
    "# Dia de Semana\n",
    "df['Dia de Semana'] = (df['dia_da_semana'] <= 4).astype(int)"
   ]
  },
  {
   "cell_type": "code",
   "execution_count": 20,
   "id": "d5446d0b-3606-49a8-a8af-b62b11359a00",
   "metadata": {},
   "outputs": [
    {
     "data": {
      "text/plain": [
       "data                0\n",
       "vendas              0\n",
       "dia_da_semana       0\n",
       "em_promocao         0\n",
       "feriado_nacional    0\n",
       "Mês                 0\n",
       "Fds                 0\n",
       "Dia de Semana       0\n",
       "dtype: int64"
      ]
     },
     "execution_count": 20,
     "metadata": {},
     "output_type": "execute_result"
    }
   ],
   "source": [
    "df.isna().sum()"
   ]
  },
  {
   "cell_type": "markdown",
   "id": "e6e55241-57bb-45ec-bcd7-fae6bfa40d3c",
   "metadata": {},
   "source": [
    "## Linear Regression"
   ]
  },
  {
   "cell_type": "markdown",
   "id": "a39b2e3e-3cd6-411d-b508-da726b516ca9",
   "metadata": {},
   "source": [
    "#### Um treinamento muito rápido me indica que usando um algoritmo de regressao linear, eu tenho um erro quadrado médio menor que o xgboost, então vamos optar por usar ele mesmo. Os próximos passo é passar por outro ciclo do crispy dm buscando aumentar a acurácia do nosso modelo"
   ]
  },
  {
   "cell_type": "code",
   "execution_count": 21,
   "id": "aada88c4-d012-43ae-8b8c-8c113ed81329",
   "metadata": {},
   "outputs": [
    {
     "data": {
      "text/plain": [
       "Index(['data', 'vendas', 'dia_da_semana', 'em_promocao', 'feriado_nacional',\n",
       "       'Mês', 'Fds', 'Dia de Semana'],\n",
       "      dtype='object')"
      ]
     },
     "execution_count": 21,
     "metadata": {},
     "output_type": "execute_result"
    }
   ],
   "source": [
    "df.columns"
   ]
  },
  {
   "cell_type": "code",
   "execution_count": null,
   "id": "439834df-ee16-47b5-9a96-7f8dc5966a61",
   "metadata": {},
   "outputs": [],
   "source": []
  },
  {
   "cell_type": "code",
   "execution_count": null,
   "id": "3dc987c3-3693-46a6-8608-fdaa6ce8505b",
   "metadata": {},
   "outputs": [],
   "source": []
  }
 ],
 "metadata": {
  "kernelspec": {
   "display_name": "Python 3 (ipykernel)",
   "language": "python",
   "name": "python3"
  },
  "language_info": {
   "codemirror_mode": {
    "name": "ipython",
    "version": 3
   },
   "file_extension": ".py",
   "mimetype": "text/x-python",
   "name": "python",
   "nbconvert_exporter": "python",
   "pygments_lexer": "ipython3",
   "version": "3.12.6"
  }
 },
 "nbformat": 4,
 "nbformat_minor": 5
}
