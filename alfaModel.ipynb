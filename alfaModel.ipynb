{
 "cells": [
  {
   "cell_type": "raw",
   "id": "9f362021-4947-4416-bc7c-6d8eba49e44d",
   "metadata": {},
   "source": [
    "Base de dados gerados atráves de Inteligência Artificial, apenas para fins didáticos."
   ]
  },
  {
   "cell_type": "markdown",
   "id": "e9205e9c-0fac-40b5-8e64-5fc4b55e1244",
   "metadata": {},
   "source": [
    "## Imports Necessários"
   ]
  },
  {
   "cell_type": "code",
   "execution_count": 13,
   "id": "edf392b4-0f66-473a-b95d-79522c0952b0",
   "metadata": {},
   "outputs": [],
   "source": [
    "import pandas as pd\n",
    "import numpy as np\n",
    "import seaborn as sns\n",
    "import matplotlib.pyplot as plt\n",
    "\n",
    "\n",
    "import xgboost as xgb\n",
    "from xgboost import XGBRegressor\n",
    "\n",
    "pd.set_option('display.max_rows', None)\n"
   ]
  },
  {
   "cell_type": "code",
   "execution_count": 2,
   "id": "278157af-fd88-46bb-a370-a2212df1dabc",
   "metadata": {},
   "outputs": [],
   "source": [
    "df = pd.read_csv('C:\\\\Users\\\\marce\\\\OneDrive\\\\Dokumenti\\\\GitHub\\\\psValcann\\\\Valcann-Ps\\\\data\\\\vendas_produto_alfa.csv')"
   ]
  },
  {
   "cell_type": "code",
   "execution_count": 3,
   "id": "e0397959-a618-4ea2-bf9e-0a80ea65bff1",
   "metadata": {},
   "outputs": [
    {
     "data": {
      "text/html": [
       "<div>\n",
       "<style scoped>\n",
       "    .dataframe tbody tr th:only-of-type {\n",
       "        vertical-align: middle;\n",
       "    }\n",
       "\n",
       "    .dataframe tbody tr th {\n",
       "        vertical-align: top;\n",
       "    }\n",
       "\n",
       "    .dataframe thead th {\n",
       "        text-align: right;\n",
       "    }\n",
       "</style>\n",
       "<table border=\"1\" class=\"dataframe\">\n",
       "  <thead>\n",
       "    <tr style=\"text-align: right;\">\n",
       "      <th></th>\n",
       "      <th>data</th>\n",
       "      <th>vendas</th>\n",
       "      <th>dia_da_semana</th>\n",
       "      <th>em_promocao</th>\n",
       "      <th>feriado_nacional</th>\n",
       "    </tr>\n",
       "  </thead>\n",
       "  <tbody>\n",
       "    <tr>\n",
       "      <th>0</th>\n",
       "      <td>2025-08-08 22:01:44.459032</td>\n",
       "      <td>139.0</td>\n",
       "      <td>sexta-feira</td>\n",
       "      <td>False</td>\n",
       "      <td>False</td>\n",
       "    </tr>\n",
       "    <tr>\n",
       "      <th>1</th>\n",
       "      <td>2025-07-04 22:01:44.459032</td>\n",
       "      <td>133.0</td>\n",
       "      <td>sexta-feira</td>\n",
       "      <td>True</td>\n",
       "      <td>True</td>\n",
       "    </tr>\n",
       "    <tr>\n",
       "      <th>2</th>\n",
       "      <td>2024-12-25 22:01:44.459032</td>\n",
       "      <td>579.0</td>\n",
       "      <td>quarta-feira</td>\n",
       "      <td>True</td>\n",
       "      <td>False</td>\n",
       "    </tr>\n",
       "    <tr>\n",
       "      <th>3</th>\n",
       "      <td>2025-04-14 22:01:44.459032</td>\n",
       "      <td>105.0</td>\n",
       "      <td>segunda-feira</td>\n",
       "      <td>False</td>\n",
       "      <td>False</td>\n",
       "    </tr>\n",
       "    <tr>\n",
       "      <th>4</th>\n",
       "      <td>2026-03-25 22:01:44.459032</td>\n",
       "      <td>60.0</td>\n",
       "      <td>quarta-feira</td>\n",
       "      <td>True</td>\n",
       "      <td>False</td>\n",
       "    </tr>\n",
       "  </tbody>\n",
       "</table>\n",
       "</div>"
      ],
      "text/plain": [
       "                         data  vendas  dia_da_semana em_promocao  \\\n",
       "0  2025-08-08 22:01:44.459032   139.0    sexta-feira       False   \n",
       "1  2025-07-04 22:01:44.459032   133.0    sexta-feira        True   \n",
       "2  2024-12-25 22:01:44.459032   579.0   quarta-feira        True   \n",
       "3  2025-04-14 22:01:44.459032   105.0  segunda-feira       False   \n",
       "4  2026-03-25 22:01:44.459032    60.0   quarta-feira        True   \n",
       "\n",
       "  feriado_nacional  \n",
       "0            False  \n",
       "1             True  \n",
       "2            False  \n",
       "3            False  \n",
       "4            False  "
      ]
     },
     "execution_count": 3,
     "metadata": {},
     "output_type": "execute_result"
    }
   ],
   "source": [
    "df.head()"
   ]
  },
  {
   "cell_type": "markdown",
   "id": "8a48943a-71e4-49c8-ad7b-20cc395165fe",
   "metadata": {},
   "source": [
    "## Exploratory Data Analysis"
   ]
  },
  {
   "cell_type": "code",
   "execution_count": 4,
   "id": "62d0fc76-5c01-407c-9feb-21d2eb50662a",
   "metadata": {},
   "outputs": [
    {
     "data": {
      "text/plain": [
       "(1015, 5)"
      ]
     },
     "execution_count": 4,
     "metadata": {},
     "output_type": "execute_result"
    }
   ],
   "source": [
    "df.shape"
   ]
  },
  {
   "cell_type": "code",
   "execution_count": 25,
   "id": "2f172375-f5d2-40f2-8d17-ab80820672b5",
   "metadata": {},
   "outputs": [
    {
     "data": {
      "text/plain": [
       "data                datetime64[ns]\n",
       "vendas                     float64\n",
       "dia_da_semana               object\n",
       "em_promocao                 object\n",
       "feriado_nacional            object\n",
       "dtype: object"
      ]
     },
     "execution_count": 25,
     "metadata": {},
     "output_type": "execute_result"
    }
   ],
   "source": [
    "df.dtypes"
   ]
  },
  {
   "cell_type": "code",
   "execution_count": 48,
   "id": "612d2372-f181-46eb-8d8b-5c6559b1b998",
   "metadata": {},
   "outputs": [
    {
     "data": {
      "text/plain": [
       "data                0\n",
       "vendas              0\n",
       "dia_da_semana       0\n",
       "em_promocao         0\n",
       "feriado_nacional    0\n",
       "dtype: int64"
      ]
     },
     "execution_count": 48,
     "metadata": {},
     "output_type": "execute_result"
    }
   ],
   "source": [
    "df.isnull().sum()"
   ]
  },
  {
   "cell_type": "markdown",
   "id": "ddea7822-29b4-47e8-9331-1cd753c94184",
   "metadata": {},
   "source": [
    "### NULL Values"
   ]
  },
  {
   "cell_type": "code",
   "execution_count": 17,
   "id": "e6e79c3d-e762-4673-95c4-272f7249d0dd",
   "metadata": {},
   "outputs": [],
   "source": [
    "# Data\n",
    "df = df.loc[~df['data'].isna()]"
   ]
  },
  {
   "cell_type": "code",
   "execution_count": 24,
   "id": "b385069a-b417-4765-956a-02862a8c2889",
   "metadata": {},
   "outputs": [],
   "source": [
    "df['data'] = pd.to_datetime(df['data'])"
   ]
  },
  {
   "cell_type": "code",
   "execution_count": 19,
   "id": "f3d8b73f-702c-4c93-872f-716691b978e6",
   "metadata": {},
   "outputs": [
    {
     "data": {
      "text/html": [
       "<div>\n",
       "<style scoped>\n",
       "    .dataframe tbody tr th:only-of-type {\n",
       "        vertical-align: middle;\n",
       "    }\n",
       "\n",
       "    .dataframe tbody tr th {\n",
       "        vertical-align: top;\n",
       "    }\n",
       "\n",
       "    .dataframe thead th {\n",
       "        text-align: right;\n",
       "    }\n",
       "</style>\n",
       "<table border=\"1\" class=\"dataframe\">\n",
       "  <thead>\n",
       "    <tr style=\"text-align: right;\">\n",
       "      <th></th>\n",
       "      <th>data</th>\n",
       "      <th>vendas</th>\n",
       "      <th>dia_da_semana</th>\n",
       "      <th>em_promocao</th>\n",
       "      <th>feriado_nacional</th>\n",
       "    </tr>\n",
       "  </thead>\n",
       "  <tbody>\n",
       "    <tr>\n",
       "      <th>8</th>\n",
       "      <td>2024-11-25 22:01:44.459032</td>\n",
       "      <td>NaN</td>\n",
       "      <td>segunda-feira</td>\n",
       "      <td>False</td>\n",
       "      <td>False</td>\n",
       "    </tr>\n",
       "    <tr>\n",
       "      <th>15</th>\n",
       "      <td>2025-12-23 22:01:44.459032</td>\n",
       "      <td>NaN</td>\n",
       "      <td>terca-feira</td>\n",
       "      <td>True</td>\n",
       "      <td>False</td>\n",
       "    </tr>\n",
       "    <tr>\n",
       "      <th>22</th>\n",
       "      <td>2023-10-05 22:01:44.459032</td>\n",
       "      <td>NaN</td>\n",
       "      <td>quinta-feira</td>\n",
       "      <td>True</td>\n",
       "      <td>False</td>\n",
       "    </tr>\n",
       "    <tr>\n",
       "      <th>23</th>\n",
       "      <td>2026-03-07 22:01:44.459032</td>\n",
       "      <td>NaN</td>\n",
       "      <td>sabado</td>\n",
       "      <td>False</td>\n",
       "      <td>False</td>\n",
       "    </tr>\n",
       "    <tr>\n",
       "      <th>25</th>\n",
       "      <td>2025-12-12 22:01:44.459032</td>\n",
       "      <td>NaN</td>\n",
       "      <td>sexta-feira</td>\n",
       "      <td>True</td>\n",
       "      <td>False</td>\n",
       "    </tr>\n",
       "    <tr>\n",
       "      <th>29</th>\n",
       "      <td>2023-10-15 22:01:44.459032</td>\n",
       "      <td>NaN</td>\n",
       "      <td>domingo</td>\n",
       "      <td>False</td>\n",
       "      <td>False</td>\n",
       "    </tr>\n",
       "    <tr>\n",
       "      <th>38</th>\n",
       "      <td>2025-06-01 22:01:44.459032</td>\n",
       "      <td>NaN</td>\n",
       "      <td>domingo</td>\n",
       "      <td>False</td>\n",
       "      <td>False</td>\n",
       "    </tr>\n",
       "    <tr>\n",
       "      <th>46</th>\n",
       "      <td>2024-01-19 22:01:44.459032</td>\n",
       "      <td>NaN</td>\n",
       "      <td>sexta-feira</td>\n",
       "      <td>False</td>\n",
       "      <td>False</td>\n",
       "    </tr>\n",
       "    <tr>\n",
       "      <th>64</th>\n",
       "      <td>2026-04-12 22:01:44.459032</td>\n",
       "      <td>NaN</td>\n",
       "      <td>domingo</td>\n",
       "      <td>True</td>\n",
       "      <td>False</td>\n",
       "    </tr>\n",
       "    <tr>\n",
       "      <th>72</th>\n",
       "      <td>2026-05-15 22:01:44.459032</td>\n",
       "      <td>NaN</td>\n",
       "      <td>sexta-feira</td>\n",
       "      <td>True</td>\n",
       "      <td>False</td>\n",
       "    </tr>\n",
       "  </tbody>\n",
       "</table>\n",
       "</div>"
      ],
      "text/plain": [
       "                          data  vendas  dia_da_semana em_promocao  \\\n",
       "8   2024-11-25 22:01:44.459032     NaN  segunda-feira       False   \n",
       "15  2025-12-23 22:01:44.459032     NaN    terca-feira        True   \n",
       "22  2023-10-05 22:01:44.459032     NaN   quinta-feira        True   \n",
       "23  2026-03-07 22:01:44.459032     NaN         sabado       False   \n",
       "25  2025-12-12 22:01:44.459032     NaN    sexta-feira        True   \n",
       "29  2023-10-15 22:01:44.459032     NaN        domingo       False   \n",
       "38  2025-06-01 22:01:44.459032     NaN        domingo       False   \n",
       "46  2024-01-19 22:01:44.459032     NaN    sexta-feira       False   \n",
       "64  2026-04-12 22:01:44.459032     NaN        domingo        True   \n",
       "72  2026-05-15 22:01:44.459032     NaN    sexta-feira        True   \n",
       "\n",
       "   feriado_nacional  \n",
       "8             False  \n",
       "15            False  \n",
       "22            False  \n",
       "23            False  \n",
       "25            False  \n",
       "29            False  \n",
       "38            False  \n",
       "46            False  \n",
       "64            False  \n",
       "72            False  "
      ]
     },
     "execution_count": 19,
     "metadata": {},
     "output_type": "execute_result"
    }
   ],
   "source": [
    "# Vendas\n",
    "df['vendas'] = df['vendas'].fillna(\n",
    "    df.groupby('dia_da_semana')['vendas'].transform('mean')\n",
    ")"
   ]
  },
  {
   "cell_type": "code",
   "execution_count": 28,
   "id": "a8c012d9-cfe7-4e30-a5a0-d158234ee0ac",
   "metadata": {},
   "outputs": [],
   "source": [
    "# Dia da Semana\n",
    "\n",
    "dias_semana = {\n",
    "    0: 'segunda-feira',\n",
    "    1: 'terca-feira',\n",
    "    2: 'quarta-feira',\n",
    "    3: 'quinta-feira',\n",
    "    4: 'sexta-feira',\n",
    "    5: 'sabado',\n",
    "    6: 'domingo'\n",
    "}\n",
    "\n",
    "def preencher_dia_da_semana(row):\n",
    "    if pd.isna(row['dia_da_semana']):\n",
    "        return dias_semana[row['data'].weekday()]\n",
    "    else:\n",
    "        return row['dia_da_semana']\n",
    "\n",
    "# Aplicar no dataframe\n",
    "df['dia_da_semana'] = df.apply(preencher_dia_da_semana, axis=1)\n"
   ]
  },
  {
   "cell_type": "code",
   "execution_count": 47,
   "id": "1dd3d7a5-1966-4256-9eed-eac59ac94f2f",
   "metadata": {},
   "outputs": [],
   "source": [
    "# Em Promoção\n",
    "probs = df['em_promocao'].value_counts(normalize=True)\n",
    "\n",
    "# Função para imputar nulos\n",
    "def imputar_em_promocao(val):\n",
    "    if pd.isna(val):\n",
    "        return np.random.choice([True, False], p=[probs[True], probs[False]])\n",
    "    else:\n",
    "        return val\n",
    "\n",
    "df['em_promocao'] = df['em_promocao'].apply(imputar_em_promocao)\n"
   ]
  },
  {
   "cell_type": "markdown",
   "id": "58cc4a65-cbf9-47fe-a1e8-54cc97d17667",
   "metadata": {},
   "source": [
    "### Transformation"
   ]
  },
  {
   "cell_type": "code",
   "execution_count": 54,
   "id": "b6add956-cfd5-4aaf-9fc2-d0ed8f2528b9",
   "metadata": {},
   "outputs": [],
   "source": [
    "# Vendas -> INT\n",
    "df['vendas'] = df['vendas'].astype(int)\n",
    "\n",
    "# Em Promocao -> False 0 | True 1\n",
    "df['em_promocao'] = df['em_promocao'].astype(int)\n",
    "\n",
    "# Feriado Nacional -> False 0 | True 1\n",
    "df['feriado_nacional'] = df['feriado_nacional'].astype(int)"
   ]
  },
  {
   "cell_type": "code",
   "execution_count": 53,
   "id": "c4c6c773-16d6-4851-bf5e-f507befbb95e",
   "metadata": {},
   "outputs": [
    {
     "data": {
      "text/plain": [
       "feriado_nacional\n",
       "False    945\n",
       "True      60\n",
       "Name: count, dtype: int64"
      ]
     },
     "execution_count": 53,
     "metadata": {},
     "output_type": "execute_result"
    }
   ],
   "source": []
  },
  {
   "cell_type": "markdown",
   "id": "ebb4c28b-19fb-4d46-b8d8-b6c41e11cacf",
   "metadata": {},
   "source": [
    "### Univariate Analysis"
   ]
  },
  {
   "cell_type": "code",
   "execution_count": 10,
   "id": "1d812c35-d550-4983-a1bf-57ccf7562c06",
   "metadata": {},
   "outputs": [
    {
     "data": {
      "text/plain": [
       "count    1000.000000\n",
       "mean      126.746000\n",
       "std        44.256866\n",
       "min        50.000000\n",
       "25%        88.000000\n",
       "50%       128.000000\n",
       "75%       165.000000\n",
       "max       200.000000\n",
       "Name: vendas, dtype: float64"
      ]
     },
     "execution_count": 10,
     "metadata": {},
     "output_type": "execute_result"
    }
   ],
   "source": [
    "df['vendas'].describe()"
   ]
  },
  {
   "cell_type": "markdown",
   "id": "4e53326a-9703-42e2-9e20-adbc51179b78",
   "metadata": {},
   "source": [
    "#### Histograma"
   ]
  },
  {
   "cell_type": "code",
   "execution_count": 11,
   "id": "d93a3263-0271-4de1-890b-6f6172502305",
   "metadata": {},
   "outputs": [
    {
     "data": {
      "text/plain": [
       "<Axes: xlabel='vendas', ylabel='Count'>"
      ]
     },
     "execution_count": 11,
     "metadata": {},
     "output_type": "execute_result"
    },
    {
     "data": {
      "image/png": "[encoded data removed]",
      "text/plain": [
       "<Figure size 640x480 with 1 Axes>"
      ]
     },
     "metadata": {},
     "output_type": "display_data"
    }
   ],
   "source": [
    "sns.histplot(data=df, x=\"vendas\")"
   ]
  },
  {
   "cell_type": "markdown",
   "id": "a033d064-d344-42df-a968-e0134189acd2",
   "metadata": {},
   "source": [
    "#### Boxplot"
   ]
  },
  {
   "cell_type": "code",
   "execution_count": 13,
   "id": "5592ff98-a33d-4e99-bcf8-908040c0e577",
   "metadata": {},
   "outputs": [
    {
     "data": {
      "text/plain": [
       "<Axes: xlabel='vendas'>"
      ]
     },
     "execution_count": 13,
     "metadata": {},
     "output_type": "execute_result"
    },
    {
     "data": {
      "image/png": "[encoded data removed]",
      "text/plain": [
       "<Figure size 640x480 with 1 Axes>"
      ]
     },
     "metadata": {},
     "output_type": "display_data"
    }
   ],
   "source": [
    "sns.boxplot(data=df, x=\"vendas\")"
   ]
  },
  {
   "cell_type": "markdown",
   "id": "d681c62b-2fb1-4420-a928-eb8ad7b8dee5",
   "metadata": {},
   "source": [
    "## Pre Processing / Normalization"
   ]
  },
  {
   "cell_type": "code",
   "execution_count": null,
   "id": "0610ca78-94a1-4718-a554-76689e362bba",
   "metadata": {},
   "outputs": [],
   "source": []
  },
  {
   "cell_type": "code",
   "execution_count": null,
   "id": "9acdfbac-ad9d-4b24-a7fb-2c19578510c4",
   "metadata": {},
   "outputs": [],
   "source": []
  },
  {
   "cell_type": "code",
   "execution_count": null,
   "id": "cd8a2792-d2ec-4a7d-98c2-d1e3db6eecf3",
   "metadata": {},
   "outputs": [],
   "source": []
  },
  {
   "cell_type": "markdown",
   "id": "828bae1c-35c8-4daf-b34b-6729203c5cef",
   "metadata": {},
   "source": [
    "## Feature Engineering"
   ]
  },
  {
   "cell_type": "code",
   "execution_count": null,
   "id": "e336f9bf-8eac-4bf8-a26b-63de304396db",
   "metadata": {},
   "outputs": [],
   "source": []
  },
  {
   "cell_type": "code",
   "execution_count": null,
   "id": "696d5fa2-1791-4b26-b243-9294f80158b5",
   "metadata": {},
   "outputs": [],
   "source": []
  },
  {
   "cell_type": "code",
   "execution_count": null,
   "id": "3243ef05-2dc7-4d48-9235-774c496d90c8",
   "metadata": {},
   "outputs": [],
   "source": []
  }
 ],
 "metadata": {
  "kernelspec": {
   "display_name": "Python 3 (ipykernel)",
   "language": "python",
   "name": "python3"
  },
  "language_info": {
   "codemirror_mode": {
    "name": "ipython",
    "version": 3
   },
   "file_extension": ".py",
   "mimetype": "text/x-python",
   "name": "python",
   "nbconvert_exporter": "python",
   "pygments_lexer": "ipython3",
   "version": "3.12.6"
  }
 },
 "nbformat": 4,
 "nbformat_minor": 5
}
